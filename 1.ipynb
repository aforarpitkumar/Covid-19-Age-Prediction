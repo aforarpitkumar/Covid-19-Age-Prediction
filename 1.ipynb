{
 "cells": [
  {
   "cell_type": "code",
   "execution_count": 1,
   "metadata": {},
   "outputs": [
    {
     "name": "stdout",
     "output_type": "stream",
     "text": [
      "         PatientID          Age  GenderCode0F1M    StateCode  Foreign1Indian0  \\\n",
      "count  1315.000000  1315.000000     1315.000000  1315.000000      1315.000000   \n",
      "mean    658.000000    38.899620        0.301141    20.098859         0.345247   \n",
      "std     379.752112    11.302023        0.458928     8.621552         0.475630   \n",
      "min       1.000000     1.000000        0.000000     1.000000         0.000000   \n",
      "25%     329.500000    38.000000        0.000000    16.000000         0.000000   \n",
      "50%     658.000000    38.000000        0.000000    18.000000         0.000000   \n",
      "75%     986.500000    38.000000        1.000000    29.000000         1.000000   \n",
      "max    1315.000000    96.000000        1.000000    36.000000         1.000000   \n",
      "\n",
      "       ForeignCode  \n",
      "count  1315.000000  \n",
      "mean      5.407605  \n",
      "std      12.828381  \n",
      "min      -1.000000  \n",
      "25%      -1.000000  \n",
      "50%      -1.000000  \n",
      "75%       1.000000  \n",
      "max      55.000000  \n",
      "Index(['PatientID', 'DateAdmit', 'Age', 'GenderCode0F1M', 'StateCode',\n",
      "       'Foreign1Indian0', 'ForeignCode', 'StatusCode'],\n",
      "      dtype='object')\n",
      "Infected Patient {20: 12, 38: 782, 45: 19, 24: 20, 69: 8, 55: 19, 70: 6, 27: 14, 59: 8, 65: 15, 75: 3, 54: 6, 53: 9, 61: 5, 25: 18, 63: 9, 3: 5, 48: 5, 40: 11, 13: 2, 96: 1, 89: 1, 85: 2, 46: 5, 68: 3, 26: 13, 76: 3, 33: 12, 37: 9, 43: 4, 21: 26, 32: 23, 47: 8, 42: 8, 44: 4, 51: 4, 31: 5, 29: 6, 67: 5, 49: 10, 52: 9, 18: 6, 34: 10, 28: 4, 22: 15, 56: 7, 35: 15, 50: 10, 30: 9, 23: 18, 19: 2, 58: 6, 41: 11, 2: 2, 60: 8, 74: 3, 39: 9, 17: 2, 36: 7, 57: 6, 64: 6, 81: 1, 62: 2, 9: 1, 7: 2, 66: 3, 12: 1, 1: 4, 14: 1, 11: 1, 6: 1, 73: 1, 92: 1, 72: 1, 15: 1, 77: 1}\n"
     ]
    },
    {
     "data": {
      "image/png": "[encoded data removed]",
      "text/plain": [
       "<Figure size 432x288 with 1 Axes>"
      ]
     },
     "metadata": {
      "needs_background": "light"
     },
     "output_type": "display_data"
    },
    {
     "name": "stdout",
     "output_type": "stream",
     "text": [
      "Infected Patient\n",
      "Expected age:38.899619771863115\n",
      "Variance in age:127.73573044892385\n",
      "I guess the variance is quite high since the data points are quite scattered out from the mean.\n",
      "Since, the variation is quite high. So, the expectation is not a good indicator here.\n",
      "\n",
      "\n",
      "\n",
      "\n",
      "{20: 1, 38: 19, 45: 2, 24: 2, 69: 1, 55: 12, 70: 1, 59: 1, 54: 1, 53: 1, 65: 2, 61: 1, 3: 1, 48: 1, 40: 1, 13: 1, 85: 1, 26: 1, 21: 1, 32: 1}\n"
     ]
    },
    {
     "data": {
      "image/png": "[encoded data removed]",
      "text/plain": [
       "<Figure size 432x288 with 1 Axes>"
      ]
     },
     "metadata": {
      "needs_background": "light"
     },
     "output_type": "display_data"
    },
    {
     "name": "stdout",
     "output_type": "stream",
     "text": [
      "Deceased Patients: {69: 3, 76: 1, 65: 3, 70: 2, 63: 1, 67: 1, 57: 1, 38: 1, 85: 1, 54: 1, 35: 1, 60: 1, 74: 1, 44: 1}\n"
     ]
    },
    {
     "data": {
      "image/png": "[encoded data removed]",
      "text/plain": [
       "<Figure size 432x288 with 1 Axes>"
      ]
     },
     "metadata": {
      "needs_background": "light"
     },
     "output_type": "display_data"
    }
   ],
   "source": [
    "\n",
    "import pandas as pd\n",
    "import numpy as np\n",
    "import matplotlib.pyplot as plt\n",
    "\n",
    "\n",
    "import statistics\n",
    "csv=pd.read_excel(\"Covid19IndiaData_30032020.xlsx\")\n",
    "print(csv.describe())\n",
    "\n",
    "\n",
    "# In[2]:\n",
    "\n",
    "\n",
    "print(csv.columns)\n",
    "\n",
    "\n",
    "# In[22]:\n",
    "\n",
    "\n",
    "ageofpeople=csv.Age\n",
    "noofpeople={}\n",
    "for i in ageofpeople:\n",
    "    noofpeople[i]=noofpeople.get(i,0)+1\n",
    "print(\"Infected Patient\",noofpeople)\n",
    "\n",
    "\n",
    "# In[31]:\n",
    "\n",
    "\n",
    "age=[i for i in noofpeople]\n",
    "age.sort()\n",
    "no=np.asarray([noofpeople[i] for i in age])\n",
    "probablity=no/sum(no)\n",
    "ax=plt.axes()\n",
    "ax.set_xlabel(\"Age\")\n",
    "ax.set_ylabel(\"Probablity\")\n",
    "plt.bar(age,probablity,color=\"c\")\n",
    "plt.title(\"Infected Patient PMF\")\n",
    "plt.xticks(np.arange(0,100,5))\n",
    "plt.yticks(np.arange(0,0.7,0.05))\n",
    "plt.show()\n",
    "\n",
    "\n",
    "# In[5]:\n",
    "\n",
    "\n",
    "print(\"Infected Patient\")\n",
    "print(\"Expected age:{}\".format(statistics.mean(ageofpeople)))\n",
    "print(\"Variance in age:{}\".format(statistics.variance(ageofpeople)))\n",
    "\n",
    "\n",
    "# In[21]:\n",
    "\n",
    "\n",
    "print(\"\"\"I guess the variance is quite high since the data points are quite scattered out from the mean.\n",
    "Since, the variation is quite high. So, the expectation is not a good indicator here.\"\"\")\n",
    "print(\"\"\"\n",
    "\n",
    "\n",
    "\"\"\")\n",
    "\n",
    "\n",
    "# In[7]:\n",
    "\n",
    "\n",
    "#1.b>\n",
    "recovereddf=csv[csv[\"StatusCode\"]==\"Recovered\"]\n",
    "rageAll=recovereddf.Age\n",
    "rnowrtage={}\n",
    "for i in rageAll:\n",
    "    rnowrtage[i]=rnowrtage.get(i,0)+1\n",
    "print(rnowrtage)\n",
    "\n",
    "\n",
    "# In[32]:\n",
    "\n",
    "\n",
    "rage=sorted(rnowrtage)\n",
    "rno=np.asarray([rnowrtage[i] for i in rage])\n",
    "rprobablity=rno/sum(rno)\n",
    "ax=plt.axes()\n",
    "plt.title(\"Recovered Patients PMF\")\n",
    "ax.set_xlabel(\"Age\")\n",
    "ax.set_ylabel(\"Probablity\")\n",
    "plt.bar(rage,rprobablity,color=\"c\")\n",
    "plt.xticks(np.arange(0,100,5))\n",
    "plt.yticks(np.arange(0,0.45,0.05))\n",
    "plt.show()\n",
    "\n",
    "\n",
    "# In[34]:\n",
    "\n",
    "\n",
    "#Dead Patients\n",
    "deaddf=csv[csv[\"StatusCode\"]==\"Dead\"]\n",
    "dageAll=deaddf.Age\n",
    "dnowrtage={}\n",
    "for i in dageAll:\n",
    "    dnowrtage[i]=dnowrtage.get(i,0)+1\n",
    "print(\"Deceased Patients:\",dnowrtage)\n",
    "dage=sorted(dnowrtage)\n",
    "dno=np.asarray([dnowrtage[i] for i in dage])\n",
    "dprobablity=dno/sum(dno)\n",
    "ax=plt.axes()\n",
    "plt.title(\"Deceased Patients PMF\")\n",
    "ax.set_xlabel(\"Age\")\n",
    "ax.set_ylabel(\"Probablity\")\n",
    "plt.bar(dage,dprobablity,color=\"c\")\n",
    "plt.xticks(np.arange(20,100,5))\n",
    "plt.yticks(np.arange(0,0.25,0.05))\n",
    "plt.show()\n",
    "\n",
    "\n",
    "\n",
    "\n",
    "\n",
    "\n",
    "\n",
    "\n",
    "\n",
    "\n",
    "\n",
    "\n",
    "\n",
    "\n",
    "\n",
    "\n",
    "\n",
    "\n",
    "\n",
    "\n",
    "\n",
    "\n",
    "\n",
    "\n",
    "\n",
    "\n",
    "\n",
    "\n",
    "\n",
    "\n",
    "\n",
    "\n",
    "\n",
    "\n",
    "\n",
    "\n"
   ]
  },
  {
   "cell_type": "code",
   "execution_count": null,
   "metadata": {},
   "outputs": [],
   "source": []
  }
 ],
 "metadata": {
  "kernelspec": {
   "display_name": "Python 3",
   "language": "python",
   "name": "python3"
  },
  "language_info": {
   "codemirror_mode": {
    "name": "ipython",
    "version": 3
   },
   "file_extension": ".py",
   "mimetype": "text/x-python",
   "name": "python",
   "nbconvert_exporter": "python",
   "pygments_lexer": "ipython3",
   "version": "3.10.2"
  }
 },
 "nbformat": 4,
 "nbformat_minor": 4
}
